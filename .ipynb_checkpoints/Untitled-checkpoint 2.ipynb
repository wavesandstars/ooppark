{
 "cells": [
  {
   "cell_type": "code",
   "execution_count": null,
   "id": "eb578d62",
   "metadata": {},
   "outputs": [],
   "source": [
    "# Your parking garage class should have the following methods:\n",
    "# - takeTicket\n",
    "# - This should decrease the amount of tickets available by 1\n",
    "# - This should decrease the amount of parkingSpaces available by 1\n",
    "# - payForParking\n",
    "# - Display an input that waits for an amount from the user and store it in a variable\n",
    "# - If the payment variable is not empty then (meaning the ticket has been paid) \n",
    "    #-> display a message to the user that their ticket has been paid and they \n",
    "    #have 15mins to leave\n",
    "# - This should update the \"currentTicket\" dictionary key \"paid\" to True\n",
    "# -leaveGarage\n",
    "# - If the ticket has been paid, display a message of \"Thank You, have a nice day\"\n",
    "# - If the ticket has not been paid, display an input prompt for payment\n",
    "# - Once paid, display message \"Thank you, have a nice day!\"\n",
    "# - Update parkingSpaces list to increase by 1 (meaning add to the parkingSpaces list)\n",
    "# - Update tickets list to increase by 1 (meaning add to the tickets list)\n",
    "\n",
    "# You will need a few attributes as well:\n",
    "# - tickets -> list\n",
    "# - parkingSpaces -> list\n",
    "# - currentTicket -> dictionary\n",
    "\n",
    "# By the end of this project each student should be able to:\n",
    "# - Explain and/or demonstrate creating classes\n",
    "# - Explain and/or demonstrate creating class methods\n",
    "# - Explain and/or demonstrate class instantiation"
   ]
  },
  {
   "cell_type": "code",
   "execution_count": 1,
   "id": "3a1eeada",
   "metadata": {},
   "outputs": [
    {
     "ename": "IndentationError",
     "evalue": "expected an indented block (1208888829.py, line 32)",
     "output_type": "error",
     "traceback": [
      "\u001b[0;36m  Input \u001b[0;32mIn [1]\u001b[0;36m\u001b[0m\n\u001b[0;31m    myparking = parkingGarage()\u001b[0m\n\u001b[0m                                    ^\u001b[0m\n\u001b[0;31mIndentationError\u001b[0m\u001b[0;31m:\u001b[0m expected an indented block\n"
     ]
    }
   ],
   "source": [
    "class parkingGarage:\n",
    "    \n",
    "    def __init__(self, spaces,tickets,currentTicket):\n",
    "        self.spaces= spaces\n",
    "        self.tickets= [1,2,3,4,5,6,7,8]\n",
    "        self.currentTicket = {\"Paid\": False }\n",
    "        \n",
    "    def takeTicket(self):\n",
    "        print: ('Welcome to the Garage. Parking is by donation. There are ' + len(self.spaces) + ' left.')\n",
    "        if len(self.spaces) > 0:\n",
    "            self.tickets.pop(0)\n",
    "            self.spaces.pop(0)\n",
    "        else:\n",
    "            print('Sorry, the garage is full.')\n",
    "            \n",
    "    def payForParking(self):\n",
    "        while True:\n",
    "            paid = input('Please make payment.')\n",
    "            if paid != \"\":\n",
    "                print(\"Your ticket has been paid and you have 15mins to leave\")\n",
    "                self.currentTicket[\"Paid\"] = True\n",
    "                break\n",
    "                \n",
    "    def leaveGarage(self):\n",
    "        if self.currentTicket == True:\n",
    "            print(\"Thank You, have a nice day\")\n",
    "        else:\n",
    "           \n",
    "        \n",
    "        \n",
    "            \n",
    "myparking = parkingGarage()     \n",
    "        \n",
    "# - If the ticket has been paid, display a message of \"Thank You, have a nice day\"\n",
    "# - If the ticket has not been paid, display an input prompt for payment\n",
    "# - Once paid, display message \"Thank you, have a nice day!\"\n",
    "# - Update parkingSpaces list to increase by 1 (meaning add to the parkingSpaces list)\n",
    "# - Update tickets list to increase by 1 (meaning add to the tickets list)     \n",
    "\n",
    "        \n",
    "\n",
    "    "
   ]
  },
  {
   "cell_type": "code",
   "execution_count": 63,
   "id": "ec428a91",
   "metadata": {},
   "outputs": [
    {
     "name": "stdout",
     "output_type": "stream",
     "text": [
      "1\n"
     ]
    }
   ],
   "source": []
  },
  {
   "cell_type": "code",
   "execution_count": null,
   "id": "7f1fc721",
   "metadata": {},
   "outputs": [],
   "source": []
  }
 ],
 "metadata": {
  "kernelspec": {
   "display_name": "Python 3 (ipykernel)",
   "language": "python",
   "name": "python3"
  },
  "language_info": {
   "codemirror_mode": {
    "name": "ipython",
    "version": 3
   },
   "file_extension": ".py",
   "mimetype": "text/x-python",
   "name": "python",
   "nbconvert_exporter": "python",
   "pygments_lexer": "ipython3",
   "version": "3.9.12"
  }
 },
 "nbformat": 4,
 "nbformat_minor": 5
}
