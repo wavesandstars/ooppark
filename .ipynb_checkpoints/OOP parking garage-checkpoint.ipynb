{
 "cells": [
  {
   "cell_type": "code",
   "execution_count": 149,
   "id": "eb578d62",
   "metadata": {},
   "outputs": [],
   "source": [
    "# Your parking garage class should have the following methods:\n",
    "# - takeTicket\n",
    "# - This should decrease the amount of tickets available by 1\n",
    "# - This should decrease the amount of parkingSpaces available by 1\n",
    "# - payForParking\n",
    "# - Display an input that waits for an amount from the user and store it in a variable\n",
    "# - If the payment variable is not empty then (meaning the ticket has been paid) \n",
    "    #-> display a message to the user that their ticket has been paid and they \n",
    "    #have 15mins to leave\n",
    "# - This should update the \"currentTicket\" dictionary key \"paid\" to True\n",
    "# -leaveGarage\n",
    "# - If the ticket has been paid, display a message of \"Thank You, have a nice day\"\n",
    "# - If the ticket has not been paid, display an input prompt for payment\n",
    "# - Once paid, display message \"Thank you, have a nice day!\"\n",
    "# - Update parkingSpaces list to increase by 1 (meaning add to the parkingSpaces list)\n",
    "# - Update tickets list to increase by 1 (meaning add to the tickets list)\n",
    "\n",
    "# You will need a few attributes as well:\n",
    "# - tickets -> list\n",
    "# - parkingSpaces -> list\n",
    "# - currentTicket -> dictionary\n",
    "\n",
    "# By the end of this project each student should be able to:\n",
    "# - Explain and/or demonstrate creating classes\n",
    "# - Explain and/or demonstrate creating class methods\n",
    "# - Explain and/or demonstrate class instantiation"
   ]
  },
  {
   "cell_type": "code",
   "execution_count": 56,
   "id": "3a1eeada",
   "metadata": {},
   "outputs": [
    {
     "name": "stdout",
     "output_type": "stream",
     "text": [
      "[1, 2, 3, 4, 5, 6, 7, 8]\n",
      "[1, 2, 3, 4, 5, 6, 7, 8]\n",
      "[1, 2, 3, 4, 5, 6, 7]\n",
      "[1, 2, 3, 4, 5, 6, 7]\n",
      "Please make a donation\n",
      "[1, 2, 3, 4, 5, 6, 7, 8]\n",
      "[1, 2, 3, 4, 5, 6, 7, 8]\n",
      "{'Paid': False}\n",
      "Please make a donation to exit the garagej\n",
      "Thanks for the donation! You have 15 minutes to exit\n",
      "{'Paid': True}\n"
     ]
    }
   ],
   "source": [
    "class parkingGarage:\n",
    "    \n",
    "    def __init__(self, spaces,tickets,currentTicket={'Paid': False}):\n",
    "        self.spaces= spaces\n",
    "        self.tickets= tickets\n",
    "        self.currentTicket = currentTicket\n",
    "       \n",
    "        \n",
    "    def takeTicket(self):\n",
    "        self.tickets.pop()\n",
    "        self.spaces.pop()\n",
    "           \n",
    "            \n",
    "    def payForParking(self):\n",
    "        while True:\n",
    "            donate= input('Please make a donation to exit the garage')\n",
    "            if donate != \"\":\n",
    "                print(\"Thanks for the donation! You have 15 minutes to exit\")\n",
    "                exit = self.currentTicket['Paid']= True\n",
    "                break\n",
    "            \n",
    "        \n",
    "    def leaveGarage(self):\n",
    "        if True in self.currentTicket.values():\n",
    "            print(\"Have a nice Day.\")\n",
    "        else:\n",
    "            print(\"Please make a donation\")\n",
    "                \n",
    "            \n",
    "        self.tickets.append(self.tickets[-1] +1)\n",
    "        self.spaces.append(self.spaces[-1] +1)\n",
    "      \n",
    "        \n",
    "spaces1= [i for i in range(1,10)]\n",
    "tickets1= [i for i in range(1,10)]\n",
    "\n",
    "\n",
    "garage1 = parkingGarage(spaces1, tickets1)\n",
    "\n",
    "garage1.takeTicket()\n",
    "print(spaces1)\n",
    "print(tickets1)\n",
    "garage1.takeTicket()\n",
    "print(spaces1)\n",
    "print(tickets1)\n",
    "\n",
    "\n",
    "garage1.leaveGarage()\n",
    "print(tickets1)\n",
    "print(spaces1)\n",
    "\n",
    "print(garage1.currentTicket)\n",
    "\n",
    "\n",
    "garage1.payForParking()\n",
    "print(garage1.currentTicket)\n",
    "\n",
    "\n",
    "# how do i prevent spaces from being overfilled because my list will keep increasing?"
   ]
  },
  {
   "cell_type": "code",
   "execution_count": null,
   "id": "ec428a91",
   "metadata": {},
   "outputs": [],
   "source": []
  },
  {
   "cell_type": "code",
   "execution_count": null,
   "id": "7f1fc721",
   "metadata": {},
   "outputs": [],
   "source": []
  },
  {
   "cell_type": "code",
   "execution_count": null,
   "id": "bdcb2210",
   "metadata": {},
   "outputs": [],
   "source": []
  },
  {
   "cell_type": "code",
   "execution_count": null,
   "id": "c84db993",
   "metadata": {},
   "outputs": [],
   "source": []
  }
 ],
 "metadata": {
  "kernelspec": {
   "display_name": "Python 3 (ipykernel)",
   "language": "python",
   "name": "python3"
  },
  "language_info": {
   "codemirror_mode": {
    "name": "ipython",
    "version": 3
   },
   "file_extension": ".py",
   "mimetype": "text/x-python",
   "name": "python",
   "nbconvert_exporter": "python",
   "pygments_lexer": "ipython3",
   "version": "3.9.12"
  }
 },
 "nbformat": 4,
 "nbformat_minor": 5
}
